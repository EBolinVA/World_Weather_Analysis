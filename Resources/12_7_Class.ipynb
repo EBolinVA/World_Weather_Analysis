{
 "cells": [
  {
   "cell_type": "code",
   "execution_count": 1,
   "id": "7e53798b",
   "metadata": {},
   "outputs": [],
   "source": [
    "import requests\n",
    "import json"
   ]
  },
  {
   "cell_type": "code",
   "execution_count": 2,
   "id": "60659fbf",
   "metadata": {},
   "outputs": [],
   "source": [
    "# url = \"https://api.nytimes.com/svc/search/v2/articlesearch.json\""
   ]
  },
  {
   "cell_type": "code",
   "execution_count": 3,
   "id": "9aeea2fd",
   "metadata": {},
   "outputs": [],
   "source": [
    "#response = requests.get(url)"
   ]
  },
  {
   "cell_type": "code",
   "execution_count": 4,
   "id": "98581cd0",
   "metadata": {},
   "outputs": [],
   "source": [
    "#response"
   ]
  },
  {
   "cell_type": "code",
   "execution_count": 5,
   "id": "93e42f59",
   "metadata": {},
   "outputs": [
    {
     "name": "stdout",
     "output_type": "stream",
     "text": [
      "Requirement already satisfied: pynytimes in /Users/elizabethbolin/opt/anaconda3/lib/python3.9/site-packages (0.8.0)\n",
      "Requirement already satisfied: urllib3 in /Users/elizabethbolin/opt/anaconda3/lib/python3.9/site-packages (from pynytimes) (1.26.11)\n",
      "Requirement already satisfied: requests<3.0.0,>=2.10.0 in /Users/elizabethbolin/opt/anaconda3/lib/python3.9/site-packages (from pynytimes) (2.28.1)\n",
      "Requirement already satisfied: charset-normalizer<3,>=2 in /Users/elizabethbolin/opt/anaconda3/lib/python3.9/site-packages (from requests<3.0.0,>=2.10.0->pynytimes) (2.0.4)\n",
      "Requirement already satisfied: idna<4,>=2.5 in /Users/elizabethbolin/opt/anaconda3/lib/python3.9/site-packages (from requests<3.0.0,>=2.10.0->pynytimes) (3.3)\n",
      "Requirement already satisfied: certifi>=2017.4.17 in /Users/elizabethbolin/opt/anaconda3/lib/python3.9/site-packages (from requests<3.0.0,>=2.10.0->pynytimes) (2022.9.24)\n",
      "Note: you may need to restart the kernel to use updated packages.\n"
     ]
    }
   ],
   "source": [
    "pip install --upgrade pynytimes"
   ]
  },
  {
   "cell_type": "code",
   "execution_count": 8,
   "id": "deaa7398",
   "metadata": {},
   "outputs": [
    {
     "ename": "ModuleNotFoundError",
     "evalue": "No module named 'config'",
     "output_type": "error",
     "traceback": [
      "\u001b[0;31m---------------------------------------------------------------------------\u001b[0m",
      "\u001b[0;31mModuleNotFoundError\u001b[0m                       Traceback (most recent call last)",
      "\u001b[0;32m/var/folders/q9/gjdr10ld3kd8ftt56c68jr2h0000gn/T/ipykernel_3869/2830902903.py\u001b[0m in \u001b[0;36m<module>\u001b[0;34m\u001b[0m\n\u001b[1;32m      1\u001b[0m \u001b[0;32mfrom\u001b[0m \u001b[0mpprint\u001b[0m \u001b[0;32mimport\u001b[0m \u001b[0mpprint\u001b[0m\u001b[0;34m\u001b[0m\u001b[0;34m\u001b[0m\u001b[0m\n\u001b[0;32m----> 2\u001b[0;31m \u001b[0;32mfrom\u001b[0m \u001b[0mconfig\u001b[0m \u001b[0;32mimport\u001b[0m \u001b[0mNYT_api_key\u001b[0m\u001b[0;34m\u001b[0m\u001b[0;34m\u001b[0m\u001b[0m\n\u001b[0m",
      "\u001b[0;31mModuleNotFoundError\u001b[0m: No module named 'config'"
     ]
    }
   ],
   "source": [
    "from pprint import pprint\n",
    "from config import NYT_api_key"
   ]
  },
  {
   "cell_type": "code",
   "execution_count": 6,
   "id": "b8e98ee5",
   "metadata": {},
   "outputs": [],
   "source": [
    "url = \"https://api.nytimes.com/svc/search/v2/articlesearch.json\""
   ]
  },
  {
   "cell_type": "code",
   "execution_count": 7,
   "id": "9b1d9b75",
   "metadata": {},
   "outputs": [
    {
     "data": {
      "text/plain": [
       "<Response [401]>"
      ]
     },
     "execution_count": 7,
     "metadata": {},
     "output_type": "execute_result"
    }
   ],
   "source": [
    "response = requests.get(url)\n",
    "response"
   ]
  },
  {
   "cell_type": "code",
   "execution_count": null,
   "id": "ecdb9462",
   "metadata": {},
   "outputs": [],
   "source": []
  }
 ],
 "metadata": {
  "kernelspec": {
   "display_name": "PythonData",
   "language": "python",
   "name": "pythondata"
  },
  "language_info": {
   "codemirror_mode": {
    "name": "ipython",
    "version": 3
   },
   "file_extension": ".py",
   "mimetype": "text/x-python",
   "name": "python",
   "nbconvert_exporter": "python",
   "pygments_lexer": "ipython3",
   "version": "3.9.13"
  }
 },
 "nbformat": 4,
 "nbformat_minor": 5
}
